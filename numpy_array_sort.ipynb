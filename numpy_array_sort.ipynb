{
  "nbformat": 4,
  "nbformat_minor": 0,
  "metadata": {
    "colab": {
      "name": "numpy_array_sort.ipynb",
      "version": "0.3.2",
      "provenance": [],
      "include_colab_link": true
    },
    "kernelspec": {
      "name": "python3",
      "display_name": "Python 3"
    }
  },
  "cells": [
    {
      "cell_type": "markdown",
      "metadata": {
        "id": "view-in-github",
        "colab_type": "text"
      },
      "source": [
        "<a href=\"https://colab.research.google.com/github/tnaka78/numpy_study/blob/master/numpy_array_sort.ipynb\" target=\"_parent\"><img src=\"https://colab.research.google.com/assets/colab-badge.svg\" alt=\"Open In Colab\"/></a>"
      ]
    },
    {
      "metadata": {
        "id": "584G3VSZqxcm",
        "colab_type": "text"
      },
      "cell_type": "markdown",
      "source": [
        "# numpy学習（ソートAPI）"
      ]
    },
    {
      "metadata": {
        "id": "eqTTEQ-HqLqX",
        "colab_type": "code",
        "colab": {}
      },
      "cell_type": "code",
      "source": [
        "import numpy as np"
      ],
      "execution_count": 0,
      "outputs": []
    },
    {
      "metadata": {
        "id": "Jucpy_dksYJk",
        "colab_type": "text"
      },
      "cell_type": "markdown",
      "source": [
        "## np.sort\n",
        "配列のソート"
      ]
    },
    {
      "metadata": {
        "id": "vP6p_A-VrKkN",
        "colab_type": "code",
        "colab": {
          "base_uri": "https://localhost:8080/",
          "height": 52
        },
        "outputId": "cfb9aead-4872-4daf-f817-b0f624f727fa"
      },
      "cell_type": "code",
      "source": [
        "a = np.array([1, 4, 3, 5, 2])\n",
        "sorted = np.sort(a)\n",
        "print(sorted)\n",
        "print(sorted[::-1]) # 降順のソート（昇順にソートした後、その配列を逆転させる）"
      ],
      "execution_count": 2,
      "outputs": [
        {
          "output_type": "stream",
          "text": [
            "[1 2 3 4 5]\n",
            "[5 4 3 2 1]\n"
          ],
          "name": "stdout"
        }
      ]
    },
    {
      "metadata": {
        "id": "hUAzpHxMrtqj",
        "colab_type": "code",
        "colab": {
          "base_uri": "https://localhost:8080/",
          "height": 87
        },
        "outputId": "0728f266-b27d-429c-ee28-152092852e0f"
      },
      "cell_type": "code",
      "source": [
        "a = np.array([[1, 4, 3, 5, 2], [5, 4, 3, 2, 1]])\n",
        "sorted = np.sort(a)\n",
        "print(sorted)\n",
        "print(sorted[:, ::-1]) # 降順のソート（昇順にソートした後、その配列を逆転させる）"
      ],
      "execution_count": 3,
      "outputs": [
        {
          "output_type": "stream",
          "text": [
            "[[1 2 3 4 5]\n",
            " [1 2 3 4 5]]\n",
            "[[5 4 3 2 1]\n",
            " [5 4 3 2 1]]\n"
          ],
          "name": "stdout"
        }
      ]
    },
    {
      "metadata": {
        "id": "b2W9P3KUsaep",
        "colab_type": "text"
      },
      "cell_type": "markdown",
      "source": [
        "## np.argsort\n",
        "ソートした配列のインデックスを返す。\n",
        "（この順番に元の配列にアクセスすると、ソートされた配列が得られる）"
      ]
    },
    {
      "metadata": {
        "id": "vt-uGVMEr6C1",
        "colab_type": "code",
        "colab": {
          "base_uri": "https://localhost:8080/",
          "height": 52
        },
        "outputId": "7dffd90c-0c84-4d2a-bea0-4d927ba3b508"
      },
      "cell_type": "code",
      "source": [
        "a = np.array([[1, 4, 3, 5, 2], [5, 4, 3, 2, 1]])\n",
        "indices = np.argsort(a)\n",
        "print(indices)"
      ],
      "execution_count": 4,
      "outputs": [
        {
          "output_type": "stream",
          "text": [
            "[[0 4 2 1 3]\n",
            " [4 3 2 1 0]]\n"
          ],
          "name": "stdout"
        }
      ]
    },
    {
      "metadata": {
        "id": "9ztyXezLvQUR",
        "colab_type": "code",
        "colab": {
          "base_uri": "https://localhost:8080/",
          "height": 52
        },
        "outputId": "32d5b4e3-8fa8-4449-e7af-b69d9d521a78"
      },
      "cell_type": "code",
      "source": [
        "# 元の配列の符号を変えてからソートすると降順になる。\n",
        "a = np.array([[1, 4, 3, 5, 2], [5, 4, 3, 2, 1]])\n",
        "indices = np.argsort(-a)\n",
        "print(indices)"
      ],
      "execution_count": 5,
      "outputs": [
        {
          "output_type": "stream",
          "text": [
            "[[3 1 2 4 0]\n",
            " [0 1 2 3 4]]\n"
          ],
          "name": "stdout"
        }
      ]
    }
  ]
}