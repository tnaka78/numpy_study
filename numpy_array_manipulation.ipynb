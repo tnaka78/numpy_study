{
  "nbformat": 4,
  "nbformat_minor": 0,
  "metadata": {
    "colab": {
      "name": "numpy_array_manipulation.ipynb",
      "version": "0.3.2",
      "provenance": [],
      "collapsed_sections": [],
      "toc_visible": true,
      "include_colab_link": true
    },
    "kernelspec": {
      "name": "python3",
      "display_name": "Python 3"
    }
  },
  "cells": [
    {
      "cell_type": "markdown",
      "metadata": {
        "id": "view-in-github",
        "colab_type": "text"
      },
      "source": [
        "<a href=\"https://colab.research.google.com/github/tnaka78/numpy_study/blob/master/numpy_array_manipulation.ipynb\" target=\"_parent\"><img src=\"https://colab.research.google.com/assets/colab-badge.svg\" alt=\"Open In Colab\"/></a>"
      ]
    },
    {
      "metadata": {
        "id": "C0WljAanRoPG",
        "colab_type": "text"
      },
      "cell_type": "markdown",
      "source": [
        "# numpy学習（配列操作系API）"
      ]
    },
    {
      "metadata": {
        "id": "j7-lh7NazgWV",
        "colab_type": "code",
        "colab": {}
      },
      "cell_type": "code",
      "source": [
        "import numpy as np"
      ],
      "execution_count": 0,
      "outputs": []
    },
    {
      "metadata": {
        "id": "sdAwdUX4QDZO",
        "colab_type": "text"
      },
      "cell_type": "markdown",
      "source": [
        "## np.reshape\n",
        "配列を変形する。"
      ]
    },
    {
      "metadata": {
        "id": "6aidsz1aatr9",
        "colab_type": "code",
        "outputId": "4c77c5cc-2436-4a51-dca1-edb9f9eb50bb",
        "colab": {
          "base_uri": "https://localhost:8080/",
          "height": 70
        }
      },
      "cell_type": "code",
      "source": [
        "# [1, 12] -> [3, 4]\n",
        "a = np.arange(0, 12)\n",
        "mat = np.reshape(a, (3, 4))\n",
        "print(mat)"
      ],
      "execution_count": 2,
      "outputs": [
        {
          "output_type": "stream",
          "text": [
            "[[ 0  1  2  3]\n",
            " [ 4  5  6  7]\n",
            " [ 8  9 10 11]]\n"
          ],
          "name": "stdout"
        }
      ]
    },
    {
      "metadata": {
        "id": "GqBiBMFRR2Ff",
        "colab_type": "code",
        "colab": {
          "base_uri": "https://localhost:8080/",
          "height": 52
        },
        "outputId": "67aa7398-2f7b-4b5c-986d-ae4d09e10f35"
      },
      "cell_type": "code",
      "source": [
        "# [3, 4] -> [2, 6]\n",
        "mat1 = np.reshape(np.arange(0, 12), (3, 4))\n",
        "mat2 = np.reshape(mat1, (2, 6))\n",
        "print(mat2)"
      ],
      "execution_count": 3,
      "outputs": [
        {
          "output_type": "stream",
          "text": [
            "[[ 0  1  2  3  4  5]\n",
            " [ 6  7  8  9 10 11]]\n"
          ],
          "name": "stdout"
        }
      ]
    },
    {
      "metadata": {
        "id": "DJfQ3c5mLY2P",
        "colab_type": "text"
      },
      "cell_type": "markdown",
      "source": [
        "## np.tile\n",
        "配列を繰り返して拡張する。"
      ]
    },
    {
      "metadata": {
        "id": "-FpvTl8UYWKr",
        "colab_type": "code",
        "outputId": "fc8f6135-b365-4d5d-f18b-072acd055bd3",
        "colab": {
          "base_uri": "https://localhost:8080/",
          "height": 87
        }
      },
      "cell_type": "code",
      "source": [
        "mat = np.tile(0.5, [4, 3])\n",
        "print(mat)"
      ],
      "execution_count": 4,
      "outputs": [
        {
          "output_type": "stream",
          "text": [
            "[[0.5 0.5 0.5]\n",
            " [0.5 0.5 0.5]\n",
            " [0.5 0.5 0.5]\n",
            " [0.5 0.5 0.5]]\n"
          ],
          "name": "stdout"
        }
      ]
    },
    {
      "metadata": {
        "id": "v30xIOzlTS-e",
        "colab_type": "code",
        "colab": {
          "base_uri": "https://localhost:8080/",
          "height": 122
        },
        "outputId": "db1046bb-efca-4b8e-e9e9-44034b7c04dd"
      },
      "cell_type": "code",
      "source": [
        "a = np.array([[11, 12, 13, 14], [21, 22, 23, 24], [31, 32, 33 ,34]])\n",
        "mat = np.tile(a, [2, 3])\n",
        "print(mat)"
      ],
      "execution_count": 5,
      "outputs": [
        {
          "output_type": "stream",
          "text": [
            "[[11 12 13 14 11 12 13 14 11 12 13 14]\n",
            " [21 22 23 24 21 22 23 24 21 22 23 24]\n",
            " [31 32 33 34 31 32 33 34 31 32 33 34]\n",
            " [11 12 13 14 11 12 13 14 11 12 13 14]\n",
            " [21 22 23 24 21 22 23 24 21 22 23 24]\n",
            " [31 32 33 34 31 32 33 34 31 32 33 34]]\n"
          ],
          "name": "stdout"
        }
      ]
    },
    {
      "metadata": {
        "id": "vOcQrt2PMph_",
        "colab_type": "text"
      },
      "cell_type": "markdown",
      "source": [
        "## np.column_stack\n"
      ]
    },
    {
      "metadata": {
        "id": "35wwUUpFpCDD",
        "colab_type": "code",
        "outputId": "d22f149f-a6f8-47b9-f568-0de62ca45533",
        "colab": {
          "base_uri": "https://localhost:8080/",
          "height": 70
        }
      },
      "cell_type": "code",
      "source": [
        "a1 = np.array([11, 12, 13])\n",
        "a2 = np.array([21, 22, 23])\n",
        "mat = np.column_stack((a1, a2))\n",
        "print(mat)"
      ],
      "execution_count": 6,
      "outputs": [
        {
          "output_type": "stream",
          "text": [
            "[[11 21]\n",
            " [12 22]\n",
            " [13 23]]\n"
          ],
          "name": "stdout"
        }
      ]
    },
    {
      "metadata": {
        "id": "S_aSls9ZQPHc",
        "colab_type": "text"
      },
      "cell_type": "markdown",
      "source": [
        "## np.row_stack"
      ]
    },
    {
      "metadata": {
        "id": "2Kvx4pCrFYkz",
        "colab_type": "code",
        "colab": {
          "base_uri": "https://localhost:8080/",
          "height": 52
        },
        "outputId": "2ac19e34-a629-4abb-a580-bcc734d06dcb"
      },
      "cell_type": "code",
      "source": [
        "a1=np.array([11, 12, 13])\n",
        "a2=np.array([21, 22, 23])\n",
        "mat = np.row_stack((a1, a2))\n",
        "print(mat)"
      ],
      "execution_count": 7,
      "outputs": [
        {
          "output_type": "stream",
          "text": [
            "[[11 12 13]\n",
            " [21 22 23]]\n"
          ],
          "name": "stdout"
        }
      ]
    }
  ]
}